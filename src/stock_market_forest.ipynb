{
 "cells": [
  {
   "cell_type": "code",
   "execution_count": null,
   "metadata": {},
   "outputs": [],
   "source": [
    "import yfinance as yf\n",
    "import pandas as pd\n",
    "import numpy as np\n",
    "from sklearn.preprocessing import StandardScaler\n",
    "from sklearn.linear_model import LinearRegression\n",
    "from sklearn.metrics import mean_squared_error, mean_absolute_error, r2_score\n",
    "import matplotlib.pyplot as plt"
   ]
  },
  {
   "cell_type": "code",
   "execution_count": null,
   "metadata": {},
   "outputs": [],
   "source": [
    "ticker = \"^BVSP\"\n",
    "data = yf.Ticker(ticker).history(period=\"2y\")\n",
    "\n",
    "data['next_day_close'] = data['Close'].shift(-1)\n",
    "data['prev_day_close'] = data['Close'].shift(1)\n",
    "data['close_5_days_ago'] = data['Close'].shift(5)\n",
    "\n",
    "data.dropna(inplace=True)\n",
    "\n",
    "data['price_increase'] = (data['next_day_close'] > data['Close']).astype(int)\n",
    "\n",
    "data.drop(['Dividends', 'Stock Splits'], axis=1, inplace=True)"
   ]
  },
  {
   "cell_type": "code",
   "execution_count": null,
   "metadata": {},
   "outputs": [],
   "source": [
    "train_data = data.iloc[0:250]\n",
    "test_data = data.iloc[250:500]"
   ]
  },
  {
   "cell_type": "code",
   "execution_count": null,
   "metadata": {},
   "outputs": [],
   "source": [
    "features = ['Close', 'Volume', 'price_increase', 'prev_day_close', 'close_5_days_ago']\n",
    "X_train = train_data[features]\n",
    "X_test = test_data[features]\n",
    "y_train = train_data['next_day_close']\n",
    "y_test = test_data['next_day_close']"
   ]
  },
  {
   "cell_type": "code",
   "execution_count": null,
   "metadata": {},
   "outputs": [],
   "source": [
    "scaler = StandardScaler()\n",
    "X_train_scaled = scaler.fit_transform(X_train)\n",
    "X_test_scaled = scaler.transform(X_test)"
   ]
  },
  {
   "cell_type": "code",
   "execution_count": null,
   "metadata": {},
   "outputs": [],
   "source": [
    "model = LinearRegression()\n",
    "model.fit(X_train_scaled, y_train)"
   ]
  },
  {
   "cell_type": "code",
   "execution_count": null,
   "metadata": {},
   "outputs": [],
   "source": [
    "y_pred = model.predict(X_test_scaled)\n",
    "\n",
    "mae = mean_absolute_error(y_test, y_pred)\n",
    "mse = mean_squared_error(y_test, y_pred)\n",
    "r2 = r2_score(y_test, y_pred)\n",
    "mape = np.mean(np.abs((y_test - y_pred) / y_test)) * 100"
   ]
  },
  {
   "cell_type": "code",
   "execution_count": null,
   "metadata": {},
   "outputs": [],
   "source": [
    "print(f\"Erro Médio Absoluto (MAE): {mae}\")\n",
    "print(f\"Erro Quadrático Médio (MSE): {mse}\")\n",
    "print(f\"Coeficiente de Determinação (R2): {r2}\")\n",
    "print(f\"Erro Percentual Absoluto Médio (MAPE): {mape}%\")"
   ]
  },
  {
   "cell_type": "code",
   "execution_count": null,
   "metadata": {},
   "outputs": [],
   "source": [
    "import matplotlib.pyplot as plt\n",
    "\n",
    "plt.figure(figsize=(10, 6))\n",
    "plt.plot(y_test.index, y_test.values, label='Valores Reais')\n",
    "plt.plot(y_test.index, y_pred, label='Previsões')\n",
    "plt.xlabel('Data')\n",
    "plt.ylabel('Valor')\n",
    "plt.title('Comparação de Valores Reais e Previsões')\n",
    "plt.legend()\n",
    "plt.show()"
   ]
  },
  {
   "cell_type": "code",
   "execution_count": null,
   "metadata": {},
   "outputs": [],
   "source": [
    "last_data_points = data.tail(3)\n",
    "X_future = last_data_points[features]\n",
    "X_future_scaled = scaler.transform(X_future)\n",
    "future_predictions = model.predict(X_future_scaled)\n",
    "print(f\"Previsões para os próximos 3 dias:\\n{future_predictions}\")"
   ]
  }
 ],
 "metadata": {
  "language_info": {
   "name": "python"
  }
 },
 "nbformat": 4,
 "nbformat_minor": 2
}
