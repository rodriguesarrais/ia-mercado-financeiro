{
 "cells": [
  {
   "cell_type": "code",
   "execution_count": 19,
   "id": "b223bec0",
   "metadata": {},
   "outputs": [],
   "source": [
    "import pandas as pd\n",
    "import yfinance as yf\n",
    "from sklearn.ensemble import RandomForestClassifier\n",
    "from sklearn.metrics import precision_score, accuracy_score"
   ]
  },
  {
   "cell_type": "code",
   "execution_count": 20,
   "id": "9302488b",
   "metadata": {},
   "outputs": [
    {
     "data": {
      "text/html": [
       "<div>\n",
       "<style scoped>\n",
       "    .dataframe tbody tr th:only-of-type {\n",
       "        vertical-align: middle;\n",
       "    }\n",
       "\n",
       "    .dataframe tbody tr th {\n",
       "        vertical-align: top;\n",
       "    }\n",
       "\n",
       "    .dataframe thead th {\n",
       "        text-align: right;\n",
       "    }\n",
       "</style>\n",
       "<table border=\"1\" class=\"dataframe\">\n",
       "  <thead>\n",
       "    <tr style=\"text-align: right;\">\n",
       "      <th></th>\n",
       "      <th>Open</th>\n",
       "      <th>High</th>\n",
       "      <th>Low</th>\n",
       "      <th>Close</th>\n",
       "      <th>Volume</th>\n",
       "      <th>Dividends</th>\n",
       "      <th>Stock Splits</th>\n",
       "    </tr>\n",
       "    <tr>\n",
       "      <th>Date</th>\n",
       "      <th></th>\n",
       "      <th></th>\n",
       "      <th></th>\n",
       "      <th></th>\n",
       "      <th></th>\n",
       "      <th></th>\n",
       "      <th></th>\n",
       "    </tr>\n",
       "  </thead>\n",
       "  <tbody>\n",
       "    <tr>\n",
       "      <th>1993-04-27 00:00:00-03:00</th>\n",
       "      <td>24.799999</td>\n",
       "      <td>25.400000</td>\n",
       "      <td>24.500000</td>\n",
       "      <td>24.500000</td>\n",
       "      <td>0</td>\n",
       "      <td>0.0</td>\n",
       "      <td>0.0</td>\n",
       "    </tr>\n",
       "    <tr>\n",
       "      <th>1993-04-28 00:00:00-03:00</th>\n",
       "      <td>24.500000</td>\n",
       "      <td>24.600000</td>\n",
       "      <td>23.700001</td>\n",
       "      <td>24.299999</td>\n",
       "      <td>0</td>\n",
       "      <td>0.0</td>\n",
       "      <td>0.0</td>\n",
       "    </tr>\n",
       "    <tr>\n",
       "      <th>1993-04-29 00:00:00-03:00</th>\n",
       "      <td>24.299999</td>\n",
       "      <td>24.799999</td>\n",
       "      <td>23.700001</td>\n",
       "      <td>23.700001</td>\n",
       "      <td>0</td>\n",
       "      <td>0.0</td>\n",
       "      <td>0.0</td>\n",
       "    </tr>\n",
       "    <tr>\n",
       "      <th>1993-04-30 00:00:00-03:00</th>\n",
       "      <td>23.700001</td>\n",
       "      <td>24.200001</td>\n",
       "      <td>23.700001</td>\n",
       "      <td>24.100000</td>\n",
       "      <td>0</td>\n",
       "      <td>0.0</td>\n",
       "      <td>0.0</td>\n",
       "    </tr>\n",
       "    <tr>\n",
       "      <th>1993-05-03 00:00:00-03:00</th>\n",
       "      <td>24.100000</td>\n",
       "      <td>24.400000</td>\n",
       "      <td>23.799999</td>\n",
       "      <td>24.100000</td>\n",
       "      <td>0</td>\n",
       "      <td>0.0</td>\n",
       "      <td>0.0</td>\n",
       "    </tr>\n",
       "    <tr>\n",
       "      <th>...</th>\n",
       "      <td>...</td>\n",
       "      <td>...</td>\n",
       "      <td>...</td>\n",
       "      <td>...</td>\n",
       "      <td>...</td>\n",
       "      <td>...</td>\n",
       "      <td>...</td>\n",
       "    </tr>\n",
       "    <tr>\n",
       "      <th>2024-06-21 00:00:00-03:00</th>\n",
       "      <td>120446.000000</td>\n",
       "      <td>121580.000000</td>\n",
       "      <td>120061.000000</td>\n",
       "      <td>121341.000000</td>\n",
       "      <td>12906900</td>\n",
       "      <td>0.0</td>\n",
       "      <td>0.0</td>\n",
       "    </tr>\n",
       "    <tr>\n",
       "      <th>2024-06-24 00:00:00-03:00</th>\n",
       "      <td>121343.000000</td>\n",
       "      <td>122840.000000</td>\n",
       "      <td>121307.000000</td>\n",
       "      <td>122637.000000</td>\n",
       "      <td>7836100</td>\n",
       "      <td>0.0</td>\n",
       "      <td>0.0</td>\n",
       "    </tr>\n",
       "    <tr>\n",
       "      <th>2024-06-25 00:00:00-03:00</th>\n",
       "      <td>122804.000000</td>\n",
       "      <td>122849.000000</td>\n",
       "      <td>121997.000000</td>\n",
       "      <td>122331.000000</td>\n",
       "      <td>6942900</td>\n",
       "      <td>0.0</td>\n",
       "      <td>0.0</td>\n",
       "    </tr>\n",
       "    <tr>\n",
       "      <th>2024-06-26 00:00:00-03:00</th>\n",
       "      <td>122331.000000</td>\n",
       "      <td>122701.000000</td>\n",
       "      <td>121402.000000</td>\n",
       "      <td>122641.000000</td>\n",
       "      <td>8178800</td>\n",
       "      <td>0.0</td>\n",
       "      <td>0.0</td>\n",
       "    </tr>\n",
       "    <tr>\n",
       "      <th>2024-06-27 00:00:00-03:00</th>\n",
       "      <td>122642.101562</td>\n",
       "      <td>124307.828125</td>\n",
       "      <td>122641.843750</td>\n",
       "      <td>124307.828125</td>\n",
       "      <td>0</td>\n",
       "      <td>0.0</td>\n",
       "      <td>0.0</td>\n",
       "    </tr>\n",
       "  </tbody>\n",
       "</table>\n",
       "<p>7716 rows × 7 columns</p>\n",
       "</div>"
      ],
      "text/plain": [
       "                                    Open           High            Low  \\\n",
       "Date                                                                     \n",
       "1993-04-27 00:00:00-03:00      24.799999      25.400000      24.500000   \n",
       "1993-04-28 00:00:00-03:00      24.500000      24.600000      23.700001   \n",
       "1993-04-29 00:00:00-03:00      24.299999      24.799999      23.700001   \n",
       "1993-04-30 00:00:00-03:00      23.700001      24.200001      23.700001   \n",
       "1993-05-03 00:00:00-03:00      24.100000      24.400000      23.799999   \n",
       "...                                  ...            ...            ...   \n",
       "2024-06-21 00:00:00-03:00  120446.000000  121580.000000  120061.000000   \n",
       "2024-06-24 00:00:00-03:00  121343.000000  122840.000000  121307.000000   \n",
       "2024-06-25 00:00:00-03:00  122804.000000  122849.000000  121997.000000   \n",
       "2024-06-26 00:00:00-03:00  122331.000000  122701.000000  121402.000000   \n",
       "2024-06-27 00:00:00-03:00  122642.101562  124307.828125  122641.843750   \n",
       "\n",
       "                                   Close    Volume  Dividends  Stock Splits  \n",
       "Date                                                                         \n",
       "1993-04-27 00:00:00-03:00      24.500000         0        0.0           0.0  \n",
       "1993-04-28 00:00:00-03:00      24.299999         0        0.0           0.0  \n",
       "1993-04-29 00:00:00-03:00      23.700001         0        0.0           0.0  \n",
       "1993-04-30 00:00:00-03:00      24.100000         0        0.0           0.0  \n",
       "1993-05-03 00:00:00-03:00      24.100000         0        0.0           0.0  \n",
       "...                                  ...       ...        ...           ...  \n",
       "2024-06-21 00:00:00-03:00  121341.000000  12906900        0.0           0.0  \n",
       "2024-06-24 00:00:00-03:00  122637.000000   7836100        0.0           0.0  \n",
       "2024-06-25 00:00:00-03:00  122331.000000   6942900        0.0           0.0  \n",
       "2024-06-26 00:00:00-03:00  122641.000000   8178800        0.0           0.0  \n",
       "2024-06-27 00:00:00-03:00  124307.828125         0        0.0           0.0  \n",
       "\n",
       "[7716 rows x 7 columns]"
      ]
     },
     "execution_count": 20,
     "metadata": {},
     "output_type": "execute_result"
    }
   ],
   "source": [
    "dataset_finance = yf.Ticker(\"^BVSP\")\n",
    "\n",
    "df_ibovespa = dataset_finance.history(period=\"max\")\n",
    "df_ibovespa"
   ]
  },
  {
   "cell_type": "code",
   "execution_count": 21,
   "id": "4e7046d8",
   "metadata": {},
   "outputs": [
    {
     "data": {
      "text/plain": [
       "<Axes: xlabel='Date'>"
      ]
     },
     "execution_count": 21,
     "metadata": {},
     "output_type": "execute_result"
    },
    {
     "data": {
      "image/png": "[encoded data removed]",
      "text/plain": [
       "<Figure size 640x480 with 1 Axes>"
      ]
     },
     "metadata": {},
     "output_type": "display_data"
    }
   ],
   "source": [
    "df_ibovespa.plot.line(y=\"Close\", use_index=True)"
   ]
  },
  {
   "cell_type": "code",
   "execution_count": 22,
   "id": "bf2f687c",
   "metadata": {},
   "outputs": [
    {
     "data": {
      "text/html": [
       "<div>\n",
       "<style scoped>\n",
       "    .dataframe tbody tr th:only-of-type {\n",
       "        vertical-align: middle;\n",
       "    }\n",
       "\n",
       "    .dataframe tbody tr th {\n",
       "        vertical-align: top;\n",
       "    }\n",
       "\n",
       "    .dataframe thead th {\n",
       "        text-align: right;\n",
       "    }\n",
       "</style>\n",
       "<table border=\"1\" class=\"dataframe\">\n",
       "  <thead>\n",
       "    <tr style=\"text-align: right;\">\n",
       "      <th></th>\n",
       "      <th>Open</th>\n",
       "      <th>High</th>\n",
       "      <th>Low</th>\n",
       "      <th>Close</th>\n",
       "      <th>Volume</th>\n",
       "      <th>Tomorrow</th>\n",
       "      <th>Goal</th>\n",
       "    </tr>\n",
       "    <tr>\n",
       "      <th>Date</th>\n",
       "      <th></th>\n",
       "      <th></th>\n",
       "      <th></th>\n",
       "      <th></th>\n",
       "      <th></th>\n",
       "      <th></th>\n",
       "      <th></th>\n",
       "    </tr>\n",
       "  </thead>\n",
       "  <tbody>\n",
       "    <tr>\n",
       "      <th>1993-04-27 00:00:00-03:00</th>\n",
       "      <td>24.799999</td>\n",
       "      <td>25.400000</td>\n",
       "      <td>24.500000</td>\n",
       "      <td>24.500000</td>\n",
       "      <td>0</td>\n",
       "      <td>24.299999</td>\n",
       "      <td>0</td>\n",
       "    </tr>\n",
       "    <tr>\n",
       "      <th>1993-04-28 00:00:00-03:00</th>\n",
       "      <td>24.500000</td>\n",
       "      <td>24.600000</td>\n",
       "      <td>23.700001</td>\n",
       "      <td>24.299999</td>\n",
       "      <td>0</td>\n",
       "      <td>23.700001</td>\n",
       "      <td>0</td>\n",
       "    </tr>\n",
       "    <tr>\n",
       "      <th>1993-04-29 00:00:00-03:00</th>\n",
       "      <td>24.299999</td>\n",
       "      <td>24.799999</td>\n",
       "      <td>23.700001</td>\n",
       "      <td>23.700001</td>\n",
       "      <td>0</td>\n",
       "      <td>24.100000</td>\n",
       "      <td>1</td>\n",
       "    </tr>\n",
       "    <tr>\n",
       "      <th>1993-04-30 00:00:00-03:00</th>\n",
       "      <td>23.700001</td>\n",
       "      <td>24.200001</td>\n",
       "      <td>23.700001</td>\n",
       "      <td>24.100000</td>\n",
       "      <td>0</td>\n",
       "      <td>24.100000</td>\n",
       "      <td>0</td>\n",
       "    </tr>\n",
       "    <tr>\n",
       "      <th>1993-05-03 00:00:00-03:00</th>\n",
       "      <td>24.100000</td>\n",
       "      <td>24.400000</td>\n",
       "      <td>23.799999</td>\n",
       "      <td>24.100000</td>\n",
       "      <td>0</td>\n",
       "      <td>24.900000</td>\n",
       "      <td>1</td>\n",
       "    </tr>\n",
       "    <tr>\n",
       "      <th>...</th>\n",
       "      <td>...</td>\n",
       "      <td>...</td>\n",
       "      <td>...</td>\n",
       "      <td>...</td>\n",
       "      <td>...</td>\n",
       "      <td>...</td>\n",
       "      <td>...</td>\n",
       "    </tr>\n",
       "    <tr>\n",
       "      <th>2024-06-21 00:00:00-03:00</th>\n",
       "      <td>120446.000000</td>\n",
       "      <td>121580.000000</td>\n",
       "      <td>120061.000000</td>\n",
       "      <td>121341.000000</td>\n",
       "      <td>12906900</td>\n",
       "      <td>122637.000000</td>\n",
       "      <td>1</td>\n",
       "    </tr>\n",
       "    <tr>\n",
       "      <th>2024-06-24 00:00:00-03:00</th>\n",
       "      <td>121343.000000</td>\n",
       "      <td>122840.000000</td>\n",
       "      <td>121307.000000</td>\n",
       "      <td>122637.000000</td>\n",
       "      <td>7836100</td>\n",
       "      <td>122331.000000</td>\n",
       "      <td>0</td>\n",
       "    </tr>\n",
       "    <tr>\n",
       "      <th>2024-06-25 00:00:00-03:00</th>\n",
       "      <td>122804.000000</td>\n",
       "      <td>122849.000000</td>\n",
       "      <td>121997.000000</td>\n",
       "      <td>122331.000000</td>\n",
       "      <td>6942900</td>\n",
       "      <td>122641.000000</td>\n",
       "      <td>1</td>\n",
       "    </tr>\n",
       "    <tr>\n",
       "      <th>2024-06-26 00:00:00-03:00</th>\n",
       "      <td>122331.000000</td>\n",
       "      <td>122701.000000</td>\n",
       "      <td>121402.000000</td>\n",
       "      <td>122641.000000</td>\n",
       "      <td>8178800</td>\n",
       "      <td>124307.828125</td>\n",
       "      <td>1</td>\n",
       "    </tr>\n",
       "    <tr>\n",
       "      <th>2024-06-27 00:00:00-03:00</th>\n",
       "      <td>122642.101562</td>\n",
       "      <td>124307.828125</td>\n",
       "      <td>122641.843750</td>\n",
       "      <td>124307.828125</td>\n",
       "      <td>0</td>\n",
       "      <td>NaN</td>\n",
       "      <td>0</td>\n",
       "    </tr>\n",
       "  </tbody>\n",
       "</table>\n",
       "<p>7716 rows × 7 columns</p>\n",
       "</div>"
      ],
      "text/plain": [
       "                                    Open           High            Low  \\\n",
       "Date                                                                     \n",
       "1993-04-27 00:00:00-03:00      24.799999      25.400000      24.500000   \n",
       "1993-04-28 00:00:00-03:00      24.500000      24.600000      23.700001   \n",
       "1993-04-29 00:00:00-03:00      24.299999      24.799999      23.700001   \n",
       "1993-04-30 00:00:00-03:00      23.700001      24.200001      23.700001   \n",
       "1993-05-03 00:00:00-03:00      24.100000      24.400000      23.799999   \n",
       "...                                  ...            ...            ...   \n",
       "2024-06-21 00:00:00-03:00  120446.000000  121580.000000  120061.000000   \n",
       "2024-06-24 00:00:00-03:00  121343.000000  122840.000000  121307.000000   \n",
       "2024-06-25 00:00:00-03:00  122804.000000  122849.000000  121997.000000   \n",
       "2024-06-26 00:00:00-03:00  122331.000000  122701.000000  121402.000000   \n",
       "2024-06-27 00:00:00-03:00  122642.101562  124307.828125  122641.843750   \n",
       "\n",
       "                                   Close    Volume       Tomorrow  Goal  \n",
       "Date                                                                     \n",
       "1993-04-27 00:00:00-03:00      24.500000         0      24.299999     0  \n",
       "1993-04-28 00:00:00-03:00      24.299999         0      23.700001     0  \n",
       "1993-04-29 00:00:00-03:00      23.700001         0      24.100000     1  \n",
       "1993-04-30 00:00:00-03:00      24.100000         0      24.100000     0  \n",
       "1993-05-03 00:00:00-03:00      24.100000         0      24.900000     1  \n",
       "...                                  ...       ...            ...   ...  \n",
       "2024-06-21 00:00:00-03:00  121341.000000  12906900  122637.000000     1  \n",
       "2024-06-24 00:00:00-03:00  122637.000000   7836100  122331.000000     0  \n",
       "2024-06-25 00:00:00-03:00  122331.000000   6942900  122641.000000     1  \n",
       "2024-06-26 00:00:00-03:00  122641.000000   8178800  124307.828125     1  \n",
       "2024-06-27 00:00:00-03:00  124307.828125         0            NaN     0  \n",
       "\n",
       "[7716 rows x 7 columns]"
      ]
     },
     "execution_count": 22,
     "metadata": {},
     "output_type": "execute_result"
    }
   ],
   "source": [
    "del df_ibovespa[\"Dividends\"]\n",
    "del df_ibovespa[\"Stock Splits\"]\n",
    "\n",
    "df_ibovespa[\"Tomorrow\"] = df_ibovespa[\"Close\"].shift(-1)\n",
    "\n",
    "df_ibovespa[\"Goal\"] = (df_ibovespa[\"Tomorrow\"] > df_ibovespa[\"Close\"]).astype(int)\n",
    "df_ibovespa"
   ]
  },
  {
   "cell_type": "code",
   "execution_count": 23,
   "id": "33d83a88",
   "metadata": {},
   "outputs": [
    {
     "data": {
      "text/plain": [
       "Date\n",
       "2024-02-02 00:00:00-03:00    1\n",
       "2024-02-05 00:00:00-03:00    1\n",
       "2024-02-06 00:00:00-03:00    1\n",
       "2024-02-07 00:00:00-03:00    1\n",
       "2024-02-08 00:00:00-03:00    1\n",
       "                            ..\n",
       "2024-06-21 00:00:00-03:00    0\n",
       "2024-06-24 00:00:00-03:00    0\n",
       "2024-06-25 00:00:00-03:00    0\n",
       "2024-06-26 00:00:00-03:00    0\n",
       "2024-06-27 00:00:00-03:00    0\n",
       "Length: 100, dtype: int64"
      ]
     },
     "execution_count": 23,
     "metadata": {},
     "output_type": "execute_result"
    }
   ],
   "source": [
    "model = RandomForestClassifier(n_estimators=100, min_samples_split=100, random_state=1)\n",
    "\n",
    "train = df_ibovespa.iloc[:-100]\n",
    "test = df_ibovespa.iloc[-100:]\n",
    "\n",
    "predictors = [\"Open\", \"High\", \"Low\", \"Close\", \"Volume\"]\n",
    "model.fit(train[predictors], train[\"Goal\"])\n",
    "\n",
    "predictions = model.predict(test[predictors])\n",
    "predictions = pd.Series(predictions, index=test.index)  \n",
    "predictions"
   ]
  },
  {
   "cell_type": "code",
   "execution_count": 24,
   "id": "474a6eeb",
   "metadata": {},
   "outputs": [
    {
     "name": "stdout",
     "output_type": "stream",
     "text": [
      "Precision:  0.4444444444444444\n",
      "Accuracy:  0.46\n"
     ]
    }
   ],
   "source": [
    "precision_model = precision_score(test[\"Goal\"], predictions)\n",
    "print(\"Precision: \", precision_model)\n",
    "accuracy_model = accuracy_score(test[\"Goal\"], predictions)\n",
    "print(\"Accuracy: \", accuracy_model)"
   ]
  },
  {
   "cell_type": "code",
   "execution_count": 25,
   "id": "cd93f52a",
   "metadata": {},
   "outputs": [
    {
     "data": {
      "text/plain": [
       "<Axes: xlabel='Date'>"
      ]
     },
     "execution_count": 25,
     "metadata": {},
     "output_type": "execute_result"
    },
    {
     "data": {
      "image/png": "[encoded data removed]",
      "text/plain": [
       "<Figure size 640x480 with 1 Axes>"
      ]
     },
     "metadata": {},
     "output_type": "display_data"
    }
   ],
   "source": [
    "combined_predictions_goal = pd.concat([test[\"Goal\"], predictions], axis=1)\n",
    "combined_predictions_goal.plot()"
   ]
  },
  {
   "cell_type": "code",
   "execution_count": 26,
   "id": "874a7c2a",
   "metadata": {},
   "outputs": [],
   "source": [
    "# construindo um sistema de backtesting\n",
    "\n",
    "def predict(train, test, predictors, model):\n",
    "    model.fit(train[predictors], train[\"Target\"])\n",
    "    preds = model.predict(test[predictors])\n",
    "    preds = pd.Series(preds, index=test.index, name=\"Predictions\")\n",
    "    combined = pd.concat([test[\"Target\"], preds], axis=1)\n",
    "    return combined"
   ]
  },
  {
   "cell_type": "code",
   "execution_count": 27,
   "id": "1fcda2f5",
   "metadata": {},
   "outputs": [],
   "source": [
    "def backtest(data, model, predictors, start=1, step=1):\n",
    "    all_predictions = []\n",
    "\n",
    "    for i in range(start,data.shape[0], step):\n",
    "        train = data.iloc[0,i].copy()\n",
    "        test = data.iloc[i:(i+step)].copy()\n",
    "        predictions = predict(train, test, predictors, model)\n",
    "        all_predictions.append(predictions)\n",
    "    return pd.concat(all_predictions)"
   ]
  },
  {
   "cell_type": "code",
   "execution_count": 28,
   "id": "e15699c7",
   "metadata": {},
   "outputs": [
    {
     "ename": "IndexError",
     "evalue": "invalid index to scalar variable.",
     "output_type": "error",
     "traceback": [
      "\u001b[1;31m---------------------------------------------------------------------------\u001b[0m",
      "\u001b[1;31mIndexError\u001b[0m                                Traceback (most recent call last)",
      "Cell \u001b[1;32mIn[28], line 1\u001b[0m\n\u001b[1;32m----> 1\u001b[0m predictions \u001b[38;5;241m=\u001b[39m \u001b[43mbacktest\u001b[49m\u001b[43m(\u001b[49m\u001b[43mdf_ibovespa\u001b[49m\u001b[43m,\u001b[49m\u001b[43m \u001b[49m\u001b[43mmodel\u001b[49m\u001b[43m,\u001b[49m\u001b[43m \u001b[49m\u001b[43mpredictors\u001b[49m\u001b[43m)\u001b[49m\n",
      "Cell \u001b[1;32mIn[27], line 7\u001b[0m, in \u001b[0;36mbacktest\u001b[1;34m(data, model, predictors, start, step)\u001b[0m\n\u001b[0;32m      5\u001b[0m     train \u001b[38;5;241m=\u001b[39m data\u001b[38;5;241m.\u001b[39miloc[\u001b[38;5;241m0\u001b[39m,i]\u001b[38;5;241m.\u001b[39mcopy()\n\u001b[0;32m      6\u001b[0m     test \u001b[38;5;241m=\u001b[39m data\u001b[38;5;241m.\u001b[39miloc[i:(i\u001b[38;5;241m+\u001b[39mstep)]\u001b[38;5;241m.\u001b[39mcopy()\n\u001b[1;32m----> 7\u001b[0m     predictions \u001b[38;5;241m=\u001b[39m \u001b[43mpredict\u001b[49m\u001b[43m(\u001b[49m\u001b[43mtrain\u001b[49m\u001b[43m,\u001b[49m\u001b[43m \u001b[49m\u001b[43mtest\u001b[49m\u001b[43m,\u001b[49m\u001b[43m \u001b[49m\u001b[43mpredictors\u001b[49m\u001b[43m,\u001b[49m\u001b[43m \u001b[49m\u001b[43mmodel\u001b[49m\u001b[43m)\u001b[49m\n\u001b[0;32m      8\u001b[0m     all_predictions\u001b[38;5;241m.\u001b[39mappend(predictions)\n\u001b[0;32m      9\u001b[0m \u001b[38;5;28;01mreturn\u001b[39;00m pd\u001b[38;5;241m.\u001b[39mconcat(all_predictions)\n",
      "Cell \u001b[1;32mIn[26], line 4\u001b[0m, in \u001b[0;36mpredict\u001b[1;34m(train, test, predictors, model)\u001b[0m\n\u001b[0;32m      3\u001b[0m \u001b[38;5;28;01mdef\u001b[39;00m \u001b[38;5;21mpredict\u001b[39m(train, test, predictors, model):\n\u001b[1;32m----> 4\u001b[0m     model\u001b[38;5;241m.\u001b[39mfit(\u001b[43mtrain\u001b[49m\u001b[43m[\u001b[49m\u001b[43mpredictors\u001b[49m\u001b[43m]\u001b[49m, train[\u001b[38;5;124m\"\u001b[39m\u001b[38;5;124mTarget\u001b[39m\u001b[38;5;124m\"\u001b[39m])\n\u001b[0;32m      5\u001b[0m     preds \u001b[38;5;241m=\u001b[39m model\u001b[38;5;241m.\u001b[39mpredict(test[predictors])\n\u001b[0;32m      6\u001b[0m     preds \u001b[38;5;241m=\u001b[39m pd\u001b[38;5;241m.\u001b[39mSeries(preds, index\u001b[38;5;241m=\u001b[39mtest\u001b[38;5;241m.\u001b[39mindex, name\u001b[38;5;241m=\u001b[39m\u001b[38;5;124m\"\u001b[39m\u001b[38;5;124mPredictions\u001b[39m\u001b[38;5;124m\"\u001b[39m)\n",
      "\u001b[1;31mIndexError\u001b[0m: invalid index to scalar variable."
     ]
    }
   ],
   "source": [
    "predictions = backtest(df_ibovespa, model, predictors)"
   ]
  },
  {
   "cell_type": "code",
   "execution_count": null,
   "id": "2dd7694d",
   "metadata": {},
   "outputs": [
    {
     "data": {
      "text/plain": [
       "1    73\n",
       "0    27\n",
       "Name: count, dtype: int64"
      ]
     },
     "execution_count": 47,
     "metadata": {},
     "output_type": "execute_result"
    }
   ],
   "source": [
    "predictions[\"Predictions\"].value_counts()"
   ]
  },
  {
   "cell_type": "code",
   "execution_count": null,
   "id": "d95f3912",
   "metadata": {},
   "outputs": [
    {
     "data": {
      "text/plain": [
       "np.float64(1.0)"
      ]
     },
     "execution_count": 51,
     "metadata": {},
     "output_type": "execute_result"
    }
   ],
   "source": [
    "precision_score(predictions[\"Target\"], predictions[\"Predictions\"])"
   ]
  },
  {
   "cell_type": "code",
   "execution_count": null,
   "id": "7043f714",
   "metadata": {},
   "outputs": [
    {
     "ename": "NameError",
     "evalue": "name 'predictions' is not defined",
     "output_type": "error",
     "traceback": [
      "\u001b[1;31m---------------------------------------------------------------------------\u001b[0m",
      "\u001b[1;31mNameError\u001b[0m                                 Traceback (most recent call last)",
      "Cell \u001b[1;32mIn[1], line 1\u001b[0m\n\u001b[1;32m----> 1\u001b[0m \u001b[43mpredictions\u001b[49m\u001b[38;5;241m.\u001b[39mvalue_counts() \u001b[38;5;241m/\u001b[39m predictions\u001b[38;5;241m.\u001b[39mshape[\u001b[38;5;241m0\u001b[39m]\n",
      "\u001b[1;31mNameError\u001b[0m: name 'predictions' is not defined"
     ]
    }
   ],
   "source": [
    "predictions.value_counts() / predictions.shape[0]"
   ]
  },
  {
   "cell_type": "code",
   "execution_count": null,
   "id": "a2259608",
   "metadata": {},
   "outputs": [],
   "source": [
    "horizons = [2,5,60,250,1000]\n",
    "new_predictors = []\n",
    "\n",
    "for horizon in horizons:\n",
    "    rolling_averages = df_ibovespa.rolling(horizon).mean()\n",
    "    ratio_column = f\"Close_Ratio_{horizon}\"\n",
    "    df_ibovespa[ratio_column] = df_ibovespa[\"Close\"] / rolling_averages[\"Close\"]\n",
    "\n",
    "    trend_column = f\"Trend_{horizon}\"\n",
    "    df_ibovespa[trend_column] = df_ibovespa.shift(1).rolling(horizon).sum()[\"Target\"]\n",
    "\n",
    "    new_predictors+= [ratio_column, trend_column]"
   ]
  },
  {
   "cell_type": "code",
   "execution_count": null,
   "id": "4f0983b8",
   "metadata": {},
   "outputs": [],
   "source": [
    "sp500 = df_ibovespa.dropna(subset=df_ibovespa.columns[df_ibovespa.columns != \"Tomorrow\"])"
   ]
  },
  {
   "cell_type": "code",
   "execution_count": null,
   "id": "9dca2701",
   "metadata": {},
   "outputs": [],
   "source": [
    "model = RandomForestClassifier(n_estimators=200, min_samples_split=50, random_state=1)"
   ]
  },
  {
   "cell_type": "code",
   "execution_count": null,
   "id": "d3db9ebc",
   "metadata": {},
   "outputs": [],
   "source": [
    "def predict(train, test, predictors, model):\n",
    "    model.fit(train[predictors], train[\"Target\"])\n",
    "    preds = model.predict_proba(test[predictors])[:,1]\n",
    "    preds[preds >=.6] = 1\n",
    "    preds[preds <.6] = 0\n",
    "    preds = pd.Series(preds, index=test.index, name=\"Predictions\")\n",
    "    combined = pd.concat([test[\"Target\"], preds], axis=1)\n",
    "    return combined"
   ]
  },
  {
   "cell_type": "code",
   "execution_count": null,
   "id": "b8bc0d18",
   "metadata": {},
   "outputs": [],
   "source": [
    "predictions = backtest(sp500, model, new_predictors)"
   ]
  },
  {
   "cell_type": "code",
   "execution_count": null,
   "id": "c618d4d0",
   "metadata": {},
   "outputs": [],
   "source": [
    "\n",
    "precision_score(predictions[\"Target\"], predictions[\"Predictions\"])"
   ]
  },
  {
   "cell_type": "code",
   "execution_count": null,
   "id": "69cd4edc",
   "metadata": {},
   "outputs": [],
   "source": [
    "\n",
    "predictions[\"Target\"].value_counts() / predictions.shape[0]"
   ]
  },
  {
   "cell_type": "code",
   "execution_count": null,
   "id": "cfd4325f",
   "metadata": {},
   "outputs": [],
   "source": [
    "predictions"
   ]
  }
 ],
 "metadata": {
  "kernelspec": {
   "display_name": "chatbot-autismo",
   "language": "python",
   "name": "cuda"
  },
  "language_info": {
   "codemirror_mode": {
    "name": "ipython",
    "version": 3
   },
   "file_extension": ".py",
   "mimetype": "text/x-python",
   "name": "python",
   "nbconvert_exporter": "python",
   "pygments_lexer": "ipython3",
   "version": "3.10.11"
  }
 },
 "nbformat": 4,
 "nbformat_minor": 5
}
