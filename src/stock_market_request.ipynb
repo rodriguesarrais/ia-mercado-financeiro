{
 "cells": [
  {
   "cell_type": "code",
   "execution_count": 6,
   "id": "b223bec0",
   "metadata": {},
   "outputs": [],
   "source": [
    "import pandas as pd"
   ]
  },
  {
   "cell_type": "code",
   "execution_count": 23,
   "id": "efc3f818-bd28-4ec9-8092-9ed0b260ab48",
   "metadata": {},
   "outputs": [
    {
     "name": "stdout",
     "output_type": "stream",
     "text": [
      "         Date      Open      High       Low     Close  Adj Close    Volume\n",
      "0  2023-06-21  119623.0  120519.0  119332.0  120420.0   120420.0  11736700\n",
      "1  2023-06-22  120420.0  120420.0  118018.0  118934.0   118934.0  11831500\n",
      "2  2023-06-23  118959.0  119386.0  118178.0  118977.0   118977.0  12845400\n",
      "3  2023-06-26  118977.0  119148.0  117491.0  118243.0   118243.0  10456600\n",
      "4  2023-06-27  118246.0  119212.0  116561.0  117523.0   117523.0  13077000\n"
     ]
    }
   ],
   "source": [
    "# Coletar o path do arquivo csv\n",
    "read_dataset = pd.read_csv('../datasets/yahoo_financas_oneyear.csv')\n",
    "\n",
    "dataset_yfinances = read_dataset.head()"
   ]
  },
  {
   "cell_type": "code",
   "execution_count": 2,
   "id": "74cebe50-fd4c-4b39-be57-19ca935873b9",
   "metadata": {},
   "outputs": [
    {
     "name": "stdout",
     "output_type": "stream",
     "text": [
      "['\\n', '\\x0c', ' ', '!', '%', '&', '(', ')', '+', ',', '-', '.', '/', '0', '1', '2', '3', '4', '5', '6', '7', '8', '9', ':', ';', '<', '=', '>', '?', '@', 'A', 'B', 'C', 'D', 'E', 'F', 'G', 'H', 'I', 'J', 'K', 'L', 'M', 'N', 'O', 'P', 'Q', 'R', 'S', 'T', 'U', 'V', 'W', 'X', 'Y', 'Z', '[', ']', '_', 'a', 'b', 'c', 'd', 'e', 'f', 'g', 'h', 'i', 'j', 'k', 'l', 'm', 'n', 'o', 'p', 'q', 'r', 's', 't', 'u', 'v', 'w', 'x', 'y', 'z', '|', 'ª', '°', '´', 'º', 'À', 'Á', 'Â', 'Ã', 'Ç', 'É', 'Ê', 'Í', 'Ó', 'Õ', 'Ú', 'à', 'á', 'â', 'ã', 'ç', 'é', 'ê', 'í', 'ñ', 'ó', 'ô', 'õ', 'ú', 'ā', '–', '‘', '’', '“', '”', '•', '→']\n"
     ]
    }
   ],
   "source": []
  },
  {
   "cell_type": "code",
   "execution_count": 3,
   "id": "ab25cc72-3a56-40e9-91de-f6e846cb3f32",
   "metadata": {},
   "outputs": [],
   "source": [
    "\n",
    "\n"
   ]
  },
  {
   "cell_type": "code",
   "execution_count": 4,
   "id": "b9b47d2f-3661-4ec8-82ad-07242d9f75d1",
   "metadata": {},
   "outputs": [
    {
     "name": "stderr",
     "output_type": "stream",
     "text": [
      "\n",
      "A module that was compiled using NumPy 1.x cannot be run in\n",
      "NumPy 2.0.0 as it may crash. To support both 1.x and 2.x\n",
      "versions of NumPy, modules must be compiled with NumPy 2.0.\n",
      "Some module may need to rebuild instead e.g. with 'pybind11>=2.12'.\n",
      "\n",
      "If you are a user of the module, the easiest solution will be to\n",
      "downgrade to 'numpy<2' or try to upgrade the affected module.\n",
      "We expect that some modules will need time to support NumPy 2.\n",
      "\n",
      "Traceback (most recent call last):  File \"C:\\Users\\55869\\AppData\\Local\\Programs\\Python\\Python310\\lib\\runpy.py\", line 196, in _run_module_as_main\n",
      "    return _run_code(code, main_globals, None,\n",
      "  File \"C:\\Users\\55869\\AppData\\Local\\Programs\\Python\\Python310\\lib\\runpy.py\", line 86, in _run_code\n",
      "    exec(code, run_globals)\n",
      "  File \"C:\\Users\\55869\\OneDrive\\Área de Trabalho\\TRABALHO_IA\\chatbot-autismo\\cuda\\lib\\site-packages\\ipykernel_launcher.py\", line 18, in <module>\n",
      "    app.launch_new_instance()\n",
      "  File \"C:\\Users\\55869\\OneDrive\\Área de Trabalho\\TRABALHO_IA\\chatbot-autismo\\cuda\\lib\\site-packages\\traitlets\\config\\application.py\", line 1075, in launch_instance\n",
      "    app.start()\n",
      "  File \"C:\\Users\\55869\\OneDrive\\Área de Trabalho\\TRABALHO_IA\\chatbot-autismo\\cuda\\lib\\site-packages\\ipykernel\\kernelapp.py\", line 739, in start\n",
      "    self.io_loop.start()\n",
      "  File \"C:\\Users\\55869\\OneDrive\\Área de Trabalho\\TRABALHO_IA\\chatbot-autismo\\cuda\\lib\\site-packages\\tornado\\platform\\asyncio.py\", line 205, in start\n",
      "    self.asyncio_loop.run_forever()\n",
      "  File \"C:\\Users\\55869\\AppData\\Local\\Programs\\Python\\Python310\\lib\\asyncio\\base_events.py\", line 603, in run_forever\n",
      "    self._run_once()\n",
      "  File \"C:\\Users\\55869\\AppData\\Local\\Programs\\Python\\Python310\\lib\\asyncio\\base_events.py\", line 1909, in _run_once\n",
      "    handle._run()\n",
      "  File \"C:\\Users\\55869\\AppData\\Local\\Programs\\Python\\Python310\\lib\\asyncio\\events.py\", line 80, in _run\n",
      "    self._context.run(self._callback, *self._args)\n",
      "  File \"C:\\Users\\55869\\OneDrive\\Área de Trabalho\\TRABALHO_IA\\chatbot-autismo\\cuda\\lib\\site-packages\\ipykernel\\kernelbase.py\", line 545, in dispatch_queue\n",
      "    await self.process_one()\n",
      "  File \"C:\\Users\\55869\\OneDrive\\Área de Trabalho\\TRABALHO_IA\\chatbot-autismo\\cuda\\lib\\site-packages\\ipykernel\\kernelbase.py\", line 534, in process_one\n",
      "    await dispatch(*args)\n",
      "  File \"C:\\Users\\55869\\OneDrive\\Área de Trabalho\\TRABALHO_IA\\chatbot-autismo\\cuda\\lib\\site-packages\\ipykernel\\kernelbase.py\", line 437, in dispatch_shell\n",
      "    await result\n",
      "  File \"C:\\Users\\55869\\OneDrive\\Área de Trabalho\\TRABALHO_IA\\chatbot-autismo\\cuda\\lib\\site-packages\\ipykernel\\ipkernel.py\", line 362, in execute_request\n",
      "    await super().execute_request(stream, ident, parent)\n",
      "  File \"C:\\Users\\55869\\OneDrive\\Área de Trabalho\\TRABALHO_IA\\chatbot-autismo\\cuda\\lib\\site-packages\\ipykernel\\kernelbase.py\", line 778, in execute_request\n",
      "    reply_content = await reply_content\n",
      "  File \"C:\\Users\\55869\\OneDrive\\Área de Trabalho\\TRABALHO_IA\\chatbot-autismo\\cuda\\lib\\site-packages\\ipykernel\\ipkernel.py\", line 449, in do_execute\n",
      "    res = shell.run_cell(\n",
      "  File \"C:\\Users\\55869\\OneDrive\\Área de Trabalho\\TRABALHO_IA\\chatbot-autismo\\cuda\\lib\\site-packages\\ipykernel\\zmqshell.py\", line 549, in run_cell\n",
      "    return super().run_cell(*args, **kwargs)\n",
      "  File \"C:\\Users\\55869\\OneDrive\\Área de Trabalho\\TRABALHO_IA\\chatbot-autismo\\cuda\\lib\\site-packages\\IPython\\core\\interactiveshell.py\", line 3075, in run_cell\n",
      "    result = self._run_cell(\n",
      "  File \"C:\\Users\\55869\\OneDrive\\Área de Trabalho\\TRABALHO_IA\\chatbot-autismo\\cuda\\lib\\site-packages\\IPython\\core\\interactiveshell.py\", line 3130, in _run_cell\n",
      "    result = runner(coro)\n",
      "  File \"C:\\Users\\55869\\OneDrive\\Área de Trabalho\\TRABALHO_IA\\chatbot-autismo\\cuda\\lib\\site-packages\\IPython\\core\\async_helpers.py\", line 129, in _pseudo_sync_runner\n",
      "    coro.send(None)\n",
      "  File \"C:\\Users\\55869\\OneDrive\\Área de Trabalho\\TRABALHO_IA\\chatbot-autismo\\cuda\\lib\\site-packages\\IPython\\core\\interactiveshell.py\", line 3334, in run_cell_async\n",
      "    has_raised = await self.run_ast_nodes(code_ast.body, cell_name,\n",
      "  File \"C:\\Users\\55869\\OneDrive\\Área de Trabalho\\TRABALHO_IA\\chatbot-autismo\\cuda\\lib\\site-packages\\IPython\\core\\interactiveshell.py\", line 3517, in run_ast_nodes\n",
      "    if await self.run_code(code, result, async_=asy):\n",
      "  File \"C:\\Users\\55869\\OneDrive\\Área de Trabalho\\TRABALHO_IA\\chatbot-autismo\\cuda\\lib\\site-packages\\IPython\\core\\interactiveshell.py\", line 3577, in run_code\n",
      "    exec(code_obj, self.user_global_ns, self.user_ns)\n",
      "  File \"C:\\Users\\55869\\AppData\\Local\\Temp\\ipykernel_19524\\3049525085.py\", line 3, in <module>\n",
      "    data = torch.tensor(encode(text), dtype=torch.long)\n",
      "C:\\Users\\55869\\AppData\\Local\\Temp\\ipykernel_19524\\3049525085.py:3: UserWarning: Failed to initialize NumPy: _ARRAY_API not found (Triggered internally at ..\\torch\\csrc\\utils\\tensor_numpy.cpp:84.)\n",
      "  data = torch.tensor(encode(text), dtype=torch.long)\n"
     ]
    }
   ],
   "source": [
    "\n",
    "    \n"
   ]
  },
  {
   "cell_type": "code",
   "execution_count": null,
   "id": "c08c3c42-ead1-479c-b921-7d59b8f61b7d",
   "metadata": {},
   "outputs": [],
   "source": []
  }
 ],
 "metadata": {
  "kernelspec": {
   "display_name": "chatbot-autismo",
   "language": "python",
   "name": "cuda"
  },
  "language_info": {
   "codemirror_mode": {
    "name": "ipython",
    "version": 3
   },
   "file_extension": ".py",
   "mimetype": "text/x-python",
   "name": "python",
   "nbconvert_exporter": "python",
   "pygments_lexer": "ipython3",
   "version": "3.10.11"
  }
 },
 "nbformat": 4,
 "nbformat_minor": 5
}
